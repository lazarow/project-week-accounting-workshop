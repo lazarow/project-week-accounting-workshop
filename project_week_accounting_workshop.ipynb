{
  "nbformat": 4,
  "nbformat_minor": 0,
  "metadata": {
    "colab": {
      "provenance": [],
      "toc_visible": true
    },
    "kernelspec": {
      "name": "python3",
      "display_name": "Python 3"
    },
    "language_info": {
      "name": "python"
    }
  },
  "cells": [
    {
      "cell_type": "markdown",
      "source": [
        "# 💾 Introduction\n",
        "\n",
        "Welcome to the project week course: **Introduction to programming**! For four days, you will work guided by an instructor on the automation of the accounting department in an imaginary company. On the last, fifth day, you (in pairs) will prepare your automation projects in the form of a 5-minute pitch.\n",
        "\n",
        "⚠️⚠️⚠️ Beware! Be sure that you work on a copy of a notebook, not on the GitHub version.\n",
        "\n",
        "---\n",
        "\n",
        "This workbook is called a **Jupyter Notebook**. We run it in the [Google Colab](https://colab.research.google.com), a free, cloud-based notebook environment. Regardless of Google Colab, you can run a notebook locally on your machine: in Jupyter Lab or VS Code (with the Jupyter extension). There are also alternative cloud platforms like Kaggle Kernels.\n",
        "\n",
        "Let's look at the basic notebook terminology:\n",
        "- A notebook is a place to write programs, view their results, and write text.\n",
        "- Each rectangle containing text or code in a notebook is called a _cell_.\n",
        "- Text cells (like this one) are written in a simple format called [Markdown](https://colab.research.google.com/notebooks/markdown_guide.ipynb).\n",
        "- Code cells contain code in the Python 3 language. Running a code cell will execute all of the code it contains.\n",
        "\n",
        "Please note that we use a notebook, but all the code written here can be run as a standard Python script file. See more details [here](https://realpython.com/run-python-scripts/) (however, do it later, it's not required for this lab).\n",
        "\n",
        "To open a notebook, you can upload it or open it from GitHub or Google Drive. The most user-friendly approach for saving a notebook is using Google Drive (so you should use one).\n",
        "\n",
        "---\n",
        "\n",
        "The memory state is preserved as you run different cells, i.e., all variables have their assigned values, libraries are imported and so on. We call it the REPL (read-eval-print loop) approach. You can re-run code cells as many times as you want. You can also restart a session, which will reset memory.\n",
        "\n",
        "---\n",
        "\n",
        "Let's now run a sample code in the block below. Click the play button on the left side of a code cell (or you can use the shortcut: `shift + enter`)."
      ],
      "metadata": {
        "id": "dTFJ2tN0B0vp"
      }
    },
    {
      "cell_type": "code",
      "source": [
        "import platform\n",
        "from datetime import date\n",
        "\n",
        "print(f\"Hello on the Project Week {date.today().year}!\")\n",
        "print(\"🐍 We're using the Python version:\", platform.python_version())"
      ],
      "metadata": {
        "id": "RpwvPliDjGvR"
      },
      "execution_count": null,
      "outputs": []
    },
    {
      "cell_type": "markdown",
      "source": [
        "---\n",
        "\n",
        "The key premises for the lab:\n",
        "- All assignments in the lab are distributed in this notebook.\n",
        "- Whenever you write code, you'll make mistakes. When you run a code cell with errors, Python will produce error messages to tell you what you did wrong. Errors are okay. Even experienced programmers make many errors. When you make an error, you have to find the source of the problem, fix it, and move on.\n",
        "- There are special cells with tests for verification of your code. All tests functions started with thye prefix `test_`. Please don't change the contents of the test cells or the prepared in advance functions and variables.\n",
        "- If you're stuck on an assignment for a few minutes, try talking to a neighbour or a instructor.\n",
        "- You can speed up jumping over the notebook by using the table of contents (on the left panel).\n",
        "- You can check all files by clicking the files button (on the left panel)."
      ],
      "metadata": {
        "id": "aCDZPSITnZzS"
      }
    },
    {
      "cell_type": "markdown",
      "source": [
        "# 🚩 Let's get started!\n",
        "\n",
        "Either run the notebook for the first time or restart it. Run the code below to load the required libraries and prepare the necessary files. The initialisation code won't help you with assignments, so keep it hidden. You may break the workshop notebook if you accidentally change something!"
      ],
      "metadata": {
        "id": "RpNUiFeJqHBf"
      }
    },
    {
      "cell_type": "code",
      "source": [
        "%pip install markdown weasyprint pdfplumber > /dev/null 2>&1\n",
        "\n",
        "# @title\n",
        "\n",
        "import os\n",
        "import shutil\n",
        "import sys\n",
        "import markdown\n",
        "import random\n",
        "import logging\n",
        "import pdfplumber\n",
        "import csv\n",
        "\n",
        "from io import StringIO\n",
        "from pathlib import Path\n",
        "from weasyprint import HTML\n",
        "from datetime import datetime, timedelta\n",
        "\n",
        "for name in [\n",
        "  'weasyprint', 'fontTools', 'pyphen', 'PIL', 'urllib3',\n",
        "  'cairocffi', 'tinycss2', 'cssselect2'\n",
        "]:\n",
        "  logger = logging.getLogger(name)\n",
        "  logger.setLevel(logging.CRITICAL + 1)\n",
        "  logger.propagate = False\n",
        "\n",
        "class Capturing(list):\n",
        "    def __enter__(self):\n",
        "        self._stdout = sys.stdout\n",
        "        sys.stdout = self._stringio = StringIO()\n",
        "        return self\n",
        "    def __exit__(self, *args):\n",
        "        self.extend(self._stringio.getvalue().splitlines())\n",
        "        del self._stringio\n",
        "        sys.stdout = self._stdout\n",
        "\n",
        "def run_test(func_to_test, *args, expected_result=None, expected_output=None, custom_assertion_fn=None, custom_assertion_err=\"\"):\n",
        "  test_func = globals().get(func_to_test)\n",
        "  if not test_func:\n",
        "    print(f\"\\n❌ Test '{func_to_test}' not found.\")\n",
        "    return\n",
        "  print(f\"🔍 Running Test: {func_to_test} with the input: {args}.\")\n",
        "  print(\"-\" * 50)\n",
        "  try:\n",
        "    result = test_func(*args)\n",
        "    if expected_result is not None:\n",
        "      assert result == expected_result, f\"Expected {expected_result}, but got {result}\"\n",
        "    if expected_output is not None:\n",
        "      with Capturing() as output:\n",
        "        test_func(*args)\n",
        "      assert output == expected_output, f\"Expected output: {expected_output}, but got {output}\"\n",
        "    if custom_assertion_fn is not None:\n",
        "      assert custom_assertion_fn(result), custom_assertion_err\n",
        "    print(\"✅ Test passed!\")\n",
        "  except AssertionError as e:\n",
        "    print(\"❌ Test failed with an assertion error.\")\n",
        "    print(f\"⚠️ {e}.\")\n",
        "  except Exception as e:\n",
        "    print(\"❌ Test failed with an unexpected error.\")\n",
        "    print(f\"⚠️ {type(e).__name__}: {e}.\")\n",
        "  print(\"-\" * 50)\n",
        "  print(\"\")\n",
        "\n",
        "def test_multiply():\n",
        "  run_test(\"multiply\", 2, 3, expected_result=6)\n",
        "  run_test(\"multiply\", -4, 5, expected_result=-20)\n",
        "  run_test(\"multiply\", 0, 10, expected_result=0)\n",
        "\n",
        "def test_full_name():\n",
        "  run_test(\"full_name\", \"John\", \"Doe\", expected_result=\"John Doe\")\n",
        "  run_test(\"full_name\", \"Ada\", \"Lovelace\", expected_result=\"Ada Lovelace\")\n",
        "  run_test(\"full_name\", \"Alan\", \"Turing\", expected_result=\"Alan Turing\")\n",
        "\n",
        "def test_square():\n",
        "  run_test(\"square\", 4, expected_result=16)\n",
        "  run_test(\"square\", -3, expected_result=9)\n",
        "  run_test(\"square\", 0, expected_result=0)\n",
        "\n",
        "def test_count_even():\n",
        "  run_test(\"count_even\", [1, 2, 3, 4, 5, 6], expected_result=3)\n",
        "  run_test(\"count_even\", [11, 13, 15], expected_result=9)\n",
        "  run_test(\"count_even\", [], expected_result=0)\n",
        "\n",
        "def test_first_last():\n",
        "  run_test(\"first_last\", [10, 20, 30, 40], expected_result=[10, 40])\n",
        "  run_test(\"first_last\", [7], expected_result=[7, 7])\n",
        "  run_test(\"first_last\", [], expected_result=[])\n",
        "\n",
        "os.makedirs(\"./tests/list_files/\", exist_ok=True)\n",
        "os.makedirs(\"./tests/list_files/a\", exist_ok=True)\n",
        "Path('./tests/list_files/b').touch(exist_ok=True)\n",
        "os.makedirs(\"./tests/list_files/c\", exist_ok=True)\n",
        "Path('./tests/list_files/d').touch(exist_ok=True)\n",
        "Path('./tests/list_files/e').touch(exist_ok=True)\n",
        "\n",
        "def test_list_files():\n",
        "  run_test(\"list_files\", \"./tests/list_files/\", expected_output=[\"b\",\"d\",\"e\"])\n",
        "\n",
        "os.makedirs(\"./tests/make_folder/\", exist_ok=True)\n",
        "\n",
        "def test_make_folder():\n",
        "  if os.path.isdir(\"./tests/make_folder/a\"):\n",
        "    os.rmdir(\"./tests/make_folder/a\")\n",
        "  run_test(\"make_folder\", \"./tests/make_folder/a\", custom_assertion_fn=lambda _: os.path.isdir(\"./tests/make_folder/a\"), custom_assertion_err=\"Folder not created\")\n",
        "\n",
        "os.makedirs(\"./tests/move_file/\", exist_ok=True)\n",
        "\n",
        "def test_move_file():\n",
        "  if os.path.exists(\"./tests/move_file/archive/notes.txt\"):\n",
        "    os.remove(\"./tests/move_file/archive/notes.txt\")\n",
        "  if os.path.isdir(\"./tests/move_file/archive/\"):\n",
        "    os.rmdir(\"./tests/move_file/archive/\")\n",
        "  Path('./tests/move_file/notes.txt').touch(exist_ok=True)\n",
        "  run_test(\n",
        "      \"move_file\",\n",
        "      \"./tests/move_file/notes.txt\",\n",
        "      \"./tests/move_file/archive/\",\n",
        "      custom_assertion_fn=lambda _: os.path.isfile(\"./tests/move_file/archive/notes.txt\"),\n",
        "      custom_assertion_err=\"File not moved\"\n",
        "  )\n",
        "\n",
        "def test_is_valid_email():\n",
        "  run_test(\"is_valid_email\", \"user@example.com\", expected_result=True)\n",
        "  run_test(\"is_valid_email\", \"user.name@site.co.uk\", expected_result=True)\n",
        "  run_test(\"is_valid_email\", \"invalid-email@com\", expected_result=False)\n",
        "\n",
        "def test_extract_numbers():\n",
        "  run_test(\"extract_numbers\", \"There are 3 apples and 24 oranges.\", expected_result=['3', '24'])\n",
        "  run_test(\"extract_numbers\", \"No numbers here!\", expected_result=[])\n",
        "\n",
        "def test_extract_date_parts():\n",
        "  run_test(\"extract_date_parts\", \"2025-05-11\", expected_result=(2025, 5, 11))\n",
        "\n",
        "def test_normalize_spaces():\n",
        "  run_test(\"normalize_spaces\", \"This   is   a  test.\", expected_result=\"This is a test.\")\n",
        "\n",
        "def test_extract_phone():\n",
        "  run_test(\"extract_phone\", \"Call me at 123-456-7890 or 987-654-3210.\", expected_result=['123-456-7890', '987-654-3210'])\n",
        "\n",
        "accountants = [\n",
        "    \"Martha\",\n",
        "    \"Arlene\",\n",
        "    \"Betty\"\n",
        "]\n",
        "\n",
        "years = [\n",
        "    \"2024\",\n",
        "    \"2025\"\n",
        "]\n",
        "\n",
        "departments = [\n",
        "    \"Marketing\",\n",
        "    \"Human Resources\",\n",
        "    \"IT\"\n",
        "]\n",
        "\n",
        "companies = {\n",
        "    \"TechVision Solutions Ltd.\": {\"currency\": \"PLN\", \"departments\": [\"Marketing\", \"IT\"]},\n",
        "    \"GreenLeaf Enterprises\": {\"currency\": \"EUR\", \"departments\": [\"Human Resources\"]},\n",
        "    \"Blue Ocean Industries\": {\"currency\": \"PLN\", \"departments\": [\"Marketing\"]},\n",
        "    \"Stellar Dynamics Corp\": {\"currency\": \"EUR\", \"departments\": [\"IT\"]},\n",
        "    \"Quantum Innovations Inc.\": {\"currency\": \"PLN\", \"departments\": [\"Human Resources\", \"Marketing\"]},\n",
        "    \"Sunrise Global Trading\": {\"currency\": \"EUR\", \"departments\": [\"IT\"]},\n",
        "    \"Mountain Peak Ventures\": {\"currency\": \"PLN\", \"departments\": [\"Marketing\"]},\n",
        "    \"Digital Frontier Systems\": {\"currency\": \"EUR\", \"departments\": [\"IT\", \"Human Resources\"]},\n",
        "    \"Silver Arrow Technologies\": {\"currency\": \"PLN\", \"departments\": [\"Marketing\"]},\n",
        "    \"Golden Gate Manufacturing\": {\"currency\": \"EUR\", \"departments\": [\"Human Resources\"]},\n",
        "    \"Crystal Clear Solutions\": {\"currency\": \"PLN\", \"departments\": [\"IT\"]},\n",
        "    \"RedRock Analytics\": {\"currency\": \"EUR\", \"departments\": [\"Marketing\", \"IT\"]},\n",
        "    \"Evergreen Logistics\": {\"currency\": \"PLN\", \"departments\": [\"Human Resources\"]},\n",
        "    \"Phoenix Data Services\": {\"currency\": \"EUR\", \"departments\": [\"IT\"]},\n",
        "    \"Coastal Wave Industries\": {\"currency\": \"PLN\", \"departments\": [\"Marketing\"]}\n",
        "}\n",
        "\n",
        "services = {\n",
        "    \"Marketing\": [\n",
        "        \"Digital Advertising Campaign\",\n",
        "        \"Market Research Study\",\n",
        "        \"Brand Identity Design\",\n",
        "        \"Social Media Management\",\n",
        "        \"Content Creation Services\"\n",
        "    ],\n",
        "    \"Human Resources\": [\n",
        "        \"Employee Training Program\",\n",
        "        \"Recruitment Services\",\n",
        "        \"HR Software Subscription\",\n",
        "        \"Team Building Event\",\n",
        "        \"Workplace Safety Consultation\"\n",
        "    ],\n",
        "    \"IT\": [\n",
        "        \"Software License Renewal\",\n",
        "        \"Cloud Storage Subscription\",\n",
        "        \"Network Security Audit\",\n",
        "        \"Hardware Maintenance\",\n",
        "        \"IT Support Services\"\n",
        "    ]\n",
        "}\n",
        "\n",
        "def create_workshop_folders():\n",
        "  for accountant in accountants:\n",
        "    os.makedirs(f\"invoices/{accountant}\", exist_ok=True)\n",
        "  for year in years:\n",
        "    os.makedirs(f\"invoices/{year}\", exist_ok=True)\n",
        "    for department in departments:\n",
        "      os.makedirs(f\"invoices/{year}/{department}\", exist_ok=True)\n",
        "    os.makedirs(f\"invoices/{year}/Manual Verification\", exist_ok=True)\n",
        "  print(\"[📁] Workshop folders have been created.\")\n",
        "\n",
        "def reset_workshop_folders():\n",
        "    shutil.rmtree(\"invoices\", ignore_errors=True)\n",
        "    print(\"[💣] Workshop folders have been removed.\")\n",
        "    create_workshop_folders()\n",
        "\n",
        "reset_workshop_folders()\n",
        "\n",
        "random.seed(230347)\n",
        "\n",
        "def generate_random_date(start_date=datetime(2024, 1, 1), end_date=datetime(2025, 12, 31)):\n",
        "  time_between = end_date - start_date\n",
        "  days_between = time_between.days\n",
        "  random_days = random.randrange(days_between)\n",
        "  return start_date + timedelta(days=random_days)\n",
        "\n",
        "def format_date(date):\n",
        "  formats = [\n",
        "    \"%d-%m-%Y\",  # DD-MM-YYYY\n",
        "    \"%Y-%m-%d\",  # YYYY-MM-DD\n",
        "    \"%d.%m.%Y\"   # DD.MM.YYYY\n",
        "  ]\n",
        "  return date.strftime(random.choice(formats))\n",
        "\n",
        "def generate_invoice_content(company, service, date, amount, currency):\n",
        "  markdown_content = f\"\"\"\n",
        "# INVOICE\n",
        "\n",
        "**Date:** {date}\n",
        "**Company:** {company}\n",
        "**Service:** {service}\n",
        "**Amount:** {amount:.2f} {currency}\n",
        "\n",
        "Thank you for your business!\n",
        "  \"\"\"\n",
        "  return markdown_content\n",
        "\n",
        "def create_random_invoices():\n",
        "  num_invoices = 100\n",
        "  for _ in range(num_invoices):\n",
        "    company = random.choice(list(companies.keys()))\n",
        "    currency = companies[company][\"currency\"]\n",
        "    department = random.choice(departments)\n",
        "    service = random.choice(services[department])\n",
        "    if random.random() < 0.07:\n",
        "      chars = list(service)\n",
        "      if len(service) >= 3:\n",
        "        pos = random.randint(0, len(chars)-1)\n",
        "        op = random.choice(['change', 'delete', 'insert'])\n",
        "        if op == 'change':\n",
        "            chars[pos] = random.choice('abcdefghijklmnopqrstuvwxyz')\n",
        "        elif op == 'delete':\n",
        "            chars.pop(pos)\n",
        "        else:\n",
        "            chars.insert(pos, random.choice('abcdefghijklmnopqrstuvwxyz'))\n",
        "      service = ''.join(chars)\n",
        "    amount = random.uniform(1000, 10000)\n",
        "    date = generate_random_date()\n",
        "    formatted_date = format_date(date)\n",
        "    content = generate_invoice_content(company, service, formatted_date, amount, currency)\n",
        "    html_content = markdown.markdown(content)\n",
        "    num_accountants = random.choices([1, 2, 3], weights=[0.85, 0.10, 0.05])[0]\n",
        "    selected_accountants = random.sample(accountants, num_accountants)\n",
        "    for accountant in selected_accountants:\n",
        "      filename = f\"invoices/{accountant}/invoice_{company.replace(' ', '_')}_{formatted_date}.pdf\"\n",
        "      HTML(string=html_content).write_pdf(filename)\n",
        "  print(f\"[📄] Generated {num_invoices} random invoices (some may be shared between accountants).\")\n",
        "\n",
        "create_random_invoices()\n",
        "\n",
        "random.seed(None)\n",
        "\n",
        "'''\n",
        "with pdfplumber.open(\"./invoices/Martha/invoice_Blue_Ocean_Industries_06.03.2025.pdf\") as pdf:\n",
        "  text = pdf.pages[0].extract_text()\n",
        "  print(text)\n",
        "'''\n",
        "\n",
        "with open('./invoices/companies.csv', 'w', newline='') as csvfile:\n",
        "  writer = csv.writer(csvfile)\n",
        "  writer.writerow(['Company', 'Departments'])\n",
        "  for company, info in companies.items():\n",
        "    departments = ';'.join(info['departments'])\n",
        "    writer.writerow([company, departments])\n",
        "print(f\"[📄] The companies CSV has been generated.\")\n",
        "\n",
        "print(\"[✅] The workshop notebook is initialised successfully.\")"
      ],
      "metadata": {
        "id": "2JeuxpNDY0qA",
        "cellView": "form"
      },
      "execution_count": null,
      "outputs": []
    },
    {
      "cell_type": "markdown",
      "source": [
        "# 📓 Day 1: Clean Up Messy Folders\n",
        "\n",
        "Today's lab contains:\n",
        "- [ ] Python's code building blocks: functions and lists;\n",
        "- [ ] the `os` module;\n",
        "- [ ] regular expressions;\n",
        "- [ ] the main goal is cleaning up the messy folder _invoices_."
      ],
      "metadata": {
        "id": "ZeZRh9lABw8L"
      }
    },
    {
      "cell_type": "markdown",
      "source": [
        "## Python's code building blocks: **Functions**\n",
        "\n",
        "- Functions are defined using the `def` keyword followed by the function name and parentheses `()` containing optional parameters.\n",
        "- Use the function name followed by parentheses and required arguments to execute it. Example: `greet(\"Alice\")`.\n",
        "- Use the `return` keyword to return a value from a function.\n",
        "- Functions can have default parameter values.\n",
        "- Arguments can be passed by name to improve readability.\n",
        "- Variables defined inside a function are local to that function by default.\n",
        "- Functions can be assigned to variables, passed as arguments, and returned from other functions.\n",
        "\n",
        "Example:\n",
        "```python\n",
        "def greet(who=\"Bob\"): # The `who` argument has the default value.\n",
        "  return \"Hello, \" + who # Returns a value.\n",
        "greet(who=\"Alice\") # Call the function with the named argument `who`.\n",
        "print(who) # Can't have access to a local variable created in a function.\n",
        "fn = greet # A function can be assigned to a variable.\n",
        "```"
      ],
      "metadata": {
        "id": "7VxsiFepjGm8"
      }
    },
    {
      "cell_type": "markdown",
      "source": [
        "---\n",
        "\n",
        "Let's do some warm-up exercises about function defining.\n",
        "1. Define a function `multiply(a, b)` that takes two numbers and returns their product.\n",
        "2. Define a function `full_name(first, last)` that takes a first name and a last name and returns them as a full name string, separated by a space.\n",
        "3. Define a function `square(n)` that takes a number and returns its square."
      ],
      "metadata": {
        "id": "ctzdNuhSlLof"
      }
    },
    {
      "cell_type": "code",
      "source": [
        "def multiply():\n",
        "  # Write your code here.\n",
        "  return None\n",
        "\n",
        "def full_name():\n",
        "  # Write your code here.\n",
        "  return None\n",
        "\n",
        "def square():\n",
        "  # Write your code here.\n",
        "  return None"
      ],
      "metadata": {
        "id": "A1jsvnhsllWm"
      },
      "execution_count": null,
      "outputs": []
    },
    {
      "cell_type": "code",
      "source": [
        "test_multiply()\n",
        "test_full_name()\n",
        "test_square()"
      ],
      "metadata": {
        "id": "ujfyZxMjmVY7"
      },
      "execution_count": null,
      "outputs": []
    },
    {
      "cell_type": "markdown",
      "source": [
        "## Python's code building blocks: **Lists**\n",
        "\n",
        "- Lists are ordered, and mutable collections of items defined using square brackets `[]`. Example: `fruits = [\"apple\", \"banana\", \"cherry\"]`.\n",
        "- Access items using zero-based indexing. Example: `fruits[0]` returns \"apple\".\n",
        "- Use slicing to get a sublist. Example: `fruits[1:3]` returns `[\"banana\", \"cherry\"]`.\n",
        "- Lists can be modified after creation. Example: `fruits[1] = \"blueberry\"`.\n",
        "- Use `.append()` to add an item at the end. Example: `fruits.append(\"orange\")`.\n",
        "- Use `.insert(index, item)` to insert at a specific position. Example: `fruits.insert(1, \"mango\")`.\n",
        "- `.remove(value)` removes the first occurrence.\n",
        "- `.pop(index)` removes and returns the item at the given index.\n",
        "- Use `len()` to get the number of items. Example: `len(fruits)`.\n",
        "- Use `for` loops to iterate over list elements.\n",
        "- _List Comprehension_ is a concise way to create lists. Example: `[x**2 for x in range(5)]` results in `[0, 1, 4, 9, 16]`.\n",
        "\n",
        "Example:\n",
        "```python\n",
        "fruits = [\"1\" + s for s in [\"apple\", \"banana\", \"cherry\"]]\n",
        "fruits.append(\"kiwi\")\n",
        "fruits.pop(1)\n",
        "for fruit in fruits:\n",
        "  print(fruit) # Prints: 1apple, 1cherry, kiwi\n",
        "\n",
        "# Alternative way of iterating a list\n",
        "for i in range(len(fruits)):\n",
        "  print(fruits[i]) # Prints: 1apple, 1cherry, kiwi\n",
        "```\n",
        "\n",
        "More methods can be found [here](https://www.w3schools.com/python/python_ref_list.asp). **Please take a look now!**  \n",
        "More about list slicing can be found [here](https://www.geeksforgeeks.org/python-list-slicing/). Check it if you need it!"
      ],
      "metadata": {
        "id": "hyQLc0k6mr6u"
      }
    },
    {
      "cell_type": "markdown",
      "source": [
        "---\n",
        "\n",
        "Let's do some exercises to practice lists in Python.\n",
        "1. Write a function `count_even(numbers)` that takes a list of integers and returns the count of even numbers.\n",
        "2. Write a function `first_last(lst)` that returns a new list containing only the first and last elements of the input list."
      ],
      "metadata": {
        "id": "iKjcWMswo4j4"
      }
    },
    {
      "cell_type": "code",
      "source": [
        "def count_even(numbers: list) -> int: # I've use here type hints! It very helpful in error detection!\n",
        "  # Write your code here.\n",
        "  return -1\n",
        "\n",
        "def first_last(lst: list) -> list:\n",
        "  # Write your code here.\n",
        "  return []"
      ],
      "metadata": {
        "id": "motzLV_ipIJD"
      },
      "execution_count": null,
      "outputs": []
    },
    {
      "cell_type": "code",
      "source": [
        "test_count_even()\n",
        "test_first_last()"
      ],
      "metadata": {
        "id": "tuQ4xIGop93j"
      },
      "execution_count": null,
      "outputs": []
    },
    {
      "cell_type": "markdown",
      "source": [
        "## The **os** module\n",
        "\n",
        "- The `os` module provides a way to interact with the operating system (e.g., file system operations, environment variables).\n",
        "- You must import it before using via `import os`.\n",
        "- `os.listdir(path)` lists files and directories in the given path.\n",
        "- `os.path.exists(path)` checks if a path exists.\n",
        "- `os.path.isfile(path)`checks if it's a file.\n",
        "- `os.path.isdir(path)` checks if it's a directory.\n",
        "- `os.remove(path)` deletes a file.\n",
        "- `os.mkdir(path)` creates a single directory.\n",
        "- `os.makedirs(path)` creates intermediate directories as needed.\n",
        "- `os.rename(src, dst)` moves or renames a file or directory Example: `os.rename(\"old.txt\", \"folder/new.txt\")`.\n",
        "- `os.path.join(part1, part2)` joins paths in a platform-independent way.\n",
        "- `os.path.basename` returns a string value which represents the base name the specified path.\n",
        "\n",
        "There are numerous methods in the `os` module. You can find all of them [here](https://www.w3schools.com/python/module_os.asp). Check it if you need it!  \n",
        "More information about `os.path` can be found [here](https://docs.python.org/3/library/os.path.html)."
      ],
      "metadata": {
        "id": "gFlGumVPrcZY"
      }
    },
    {
      "cell_type": "markdown",
      "source": [
        "---\n",
        "\n",
        "Let's do some exercises to practice selected methods of the `os` module.\n",
        "1. Write a function `list_files(path)` that prints the names of all files (not directories) in a given folder.\n",
        "2. Write a function `make_folder(folder_name)` that checks if a directory exists, and if not, creates it.\n",
        "3. Write a function `move_file(src, dst_folder)` that moves a file to a specified folder. If the folder does not exist, create it."
      ],
      "metadata": {
        "id": "pYzmu4JutIkY"
      }
    },
    {
      "cell_type": "code",
      "source": [
        "import os\n",
        "\n",
        "def list_files(path: str) -> None:\n",
        "  # Write your code here.\n",
        "  print(\"Remove me!\")\n",
        "\n",
        "def make_folder(folder_name: str) -> None:\n",
        "  # Write your code here.\n",
        "  pass # The `pass` is used here and later as a placeholder; remove it when you do an exercise.\n",
        "\n",
        "def move_file(src: str, dst_folder: str) -> None:\n",
        "  # Write your code here.\n",
        "  pass"
      ],
      "metadata": {
        "id": "4JS2UgPPw-DA"
      },
      "execution_count": null,
      "outputs": []
    },
    {
      "cell_type": "code",
      "source": [
        "test_list_files()\n",
        "test_make_folder()\n",
        "test_move_file()"
      ],
      "metadata": {
        "id": "EcESyezgw9Ec"
      },
      "execution_count": null,
      "outputs": []
    },
    {
      "cell_type": "markdown",
      "source": [
        "## Regular expressions\n",
        "\n",
        "- Regular expressions (regex) are sequences of characters that define search patterns, commonly used for string matching, validation, and extraction.\n",
        "- Plain characters match themselves. Example: `cat` matches `\"cat\"`.\n",
        "- Special characters like `. ^ $ * + ? { } [ ] \\ | ( )` that have specific meanings in patterns.\n",
        "- `[abc]` matches any one of `'a'`, `'b'`, or `'c'`.\n",
        "- `[^abc]` matches any character except `'a'`, `'b'`, or `'c'`.\n",
        "- Quantifiers:\n",
        "  - `*` = 0 or more,\n",
        "  - `+` = 1 or more,\n",
        "  - `?` = 0 or 1\n",
        "  - `{n}` = exactly n times,\n",
        "  - `{n,}` = n or more times,\n",
        "  - `{n,m}` = between n and m times.\n",
        "- `.` matches any character except newline.\n",
        "- `|` acts like a logical OR. Example: `cat|dog` matches `\"cat\"` or `\"dog\"`.\n",
        "- `()` is used for extracting submatches and applying quantifiers. Example: `(ab)+` matches one or more occurrences of `\"ab\"`.\n",
        "\n",
        "### Regular expressions in Python (aka the **re** module)\n",
        "\n",
        "- Importing: `import re`.\n",
        "- `re.search(pattern, string)` returns a match object for the first match, or `None`. The similar method is `re.match(pattern, string)`, which matches only at the beginning of the string. There is also `re.fullmatch(pattern, string)`, that matches the entire string against the pattern.\n",
        "- `re.findall(pattern, string)` returns a list of all non-overlapping matches.\n",
        "- `re.sub(pattern, replacement, string)` replaces all matches with the replacement.\n",
        "- `re.split(pattern, string)` splits a string based on the pattern.\n",
        "- `.group(group)` returns the matched string.\n",
        "- `.groups()` returns all captured groups.\n",
        "- Flags modifies regex behavior, e.g. `re.IGNORECASE` performs a case-insensitive search.\n",
        "\n",
        "Example:\n",
        "```python\n",
        "m = re.search(r\"(\\d+)-(\\d+)\", \"Date: 2024-05\")\n",
        "print(m.group(0))  # \"2024-05\"\n",
        "print(m.group(1))  # \"2024\"\n",
        "print(m.group(2))  # \"05\"\n",
        "\n",
        "m = re.search(r\"(\\w+)-(\\d+)\", \"Item-A12\")\n",
        "print(m.groups())  # (\"Item\", \"A12\")\n",
        "```\n",
        "\n",
        "More information about regex in Python can be found [here](https://www.w3schools.com/python/python_regex.asp). Use it, if you need it."
      ],
      "metadata": {
        "id": "rcN68jAP6Ieq"
      }
    },
    {
      "cell_type": "markdown",
      "source": [
        "---\n",
        "\n",
        "Let's do some exercises to practice regular expressions and the `re` module.\n",
        "1. Write a function `is_valid_email(email)` that returns `True` if the email is in a valid format like `name@domain.com`, otherwise `False`. Hint: Use `re.fullmatch()` with a basic email pattern.\n",
        "2. Write a function `extract_numbers(text)` that returns a list of all numbers found in a string. Hint: Use `re.findall()` with `\\d+`.\n",
        "3. Write a function `extract_date_parts(date_string)` that returns a tuple (year, month, day) from a string like \"2025-05-11\" using groups. A tuple in Python is an immutable, ordered collection of elements, defined using parentheses `()`.\n",
        "4. Write a function `normalize_spaces(text)` that replaces all consecutive spaces or tabs with a single space.\n",
        "5. Write a function `extract_phone(text)` that returns all phone numbers in the format `XXX-XXX-XXXX`."
      ],
      "metadata": {
        "id": "jajxWw1o-BPi"
      }
    },
    {
      "cell_type": "code",
      "source": [
        "import re\n",
        "\n",
        "def is_valid_email(email: str) -> bool:\n",
        "  # Write your code here.\n",
        "  return False\n",
        "\n",
        "def extract_numbers(text: str) -> list:\n",
        "  # Write your code here.\n",
        "  return []\n",
        "\n",
        "def extract_date_parts(date_string: str) -> tuple:\n",
        "  # Write your code here.\n",
        "  return (0, 0, 0)\n",
        "\n",
        "def normalize_spaces(text: str) -> str:\n",
        "  # Write your code here.\n",
        "  return \"\"\n",
        "\n",
        "def extract_phone(text: str) -> list:\n",
        "  # Write your code here.\n",
        "  return []"
      ],
      "metadata": {
        "id": "mjKns211-2RB"
      },
      "execution_count": null,
      "outputs": []
    },
    {
      "cell_type": "code",
      "source": [
        "test_is_valid_email()\n",
        "test_extract_numbers()\n",
        "test_extract_date_parts()\n",
        "test_normalize_spaces()\n",
        "test_extract_phone()"
      ],
      "metadata": {
        "id": "9c7UD2LR_7kh"
      },
      "execution_count": null,
      "outputs": []
    },
    {
      "cell_type": "markdown",
      "source": [
        "## Cleaning up the messy folders\n",
        "\n",
        "A company wants to automate assigning invoices to a business unit, i.e. a unit within the company: `Marketing`, `Human Resources`, and `IT`. Invoices are received by the accounting department, which decides which unit will be charged based on the information inside the invoices.\n",
        "\n",
        "Currently, three accountants do the assigning process: `Arlene`, `Betty` and `Martha`.\n",
        "\n",
        "The project's ultimate goal is a computer program that can partly replace the human-based process.\n",
        "\n",
        "A messy folder structure:\n",
        "- Each accountant has a folder with invoices, which she works with.\n",
        "- There are two years: 2024 and 2025.\n",
        "- Beware of invoice duplicates.\n",
        "- The name of a PDF file (an invoice) contains a date. There are three possible forms of dates:\n",
        "  - `DD-MM-YYYY`, e.g. `invoice_Blue_Ocean_Industries_15-01-2025.pdf`;\n",
        "  - `YYYY-MM-DD`, e.g. `invoice_Coastal_Wave_Industries_2025-07-20.pdf`;\n",
        "  - `DD.MM.YYYY`, e.g. `invoice_Evergreen_Logistics_21.01.2024.pdf`;\n",
        "- **Goal:** Organise the folder structure. The invoices must be moved to folders with the corresponding year. Remove duplicates. Show the instructor how many invoices are placed in the target folders (i.e., 2024 and 2025), which completes Day 1."
      ],
      "metadata": {
        "id": "5zlZy_4zAMky"
      }
    },
    {
      "cell_type": "code",
      "source": [
        "# Write your code here."
      ],
      "metadata": {
        "id": "bQotrN3cAyvt",
        "collapsed": true
      },
      "execution_count": null,
      "outputs": []
    },
    {
      "cell_type": "markdown",
      "source": [
        "# 📓 Day 2: Unclutter Invoices\n",
        "\n",
        "Today's lab contains:\n",
        "- [ ] Python's code building blocks: dictionaries and string manipulation;\n",
        "- [ ] loading data from CSV;\n",
        "- [ ] the _pdfplumber_ library;\n",
        "- [ ] the main goal is assigning invoices to the units' folders."
      ],
      "metadata": {
        "id": "w4sRfrh3DFCD"
      }
    },
    {
      "cell_type": "markdown",
      "source": [
        "## Python's code building blocks: **Dictionaries**\n",
        "\n",
        "- A dictionary is an unordered, mutable collection of key-value pairs.\n",
        "- Defined using curly braces `{}` with key-value pairs separated by colons.\n",
        "- Use square brackets or the `.get()` method to access values.\n",
        "- To add or update values, assign a value to a key.\n",
        "- _Keys Must Be Immutable_, i.e., keys can be strings, numbers, or tuples --- but not lists or other dictionaries.\n",
        "- To check existence, use the `in` keyword.\n",
        "- There are multiple dictionary methods, likes `.keys()`, `.values()`, `.items()`, `.pop()`, `.update()`. Read more [here](https://www.w3schools.com/python/python_dictionaries_methods.asp).\n",
        "- Dictionaries can contain other dictionaries.\n",
        "\n",
        "Example:\n",
        "```python\n",
        "my_dict = {\"name\": \"Alice\", \"age\": 30}\n",
        "my_dict[\"name\"]     # \"Alice\"  \n",
        "my_dict.get(\"age\")  # 30\n",
        "my_dict[\"city\"] = \"Paris\"\n",
        "del my_dict[\"age\"]  # or use .pop(\"age\")\n",
        "\n",
        "for key, value in my_dict.items():\n",
        "  print(key, value) # prints: name Alice, city Paris\n",
        "\n",
        "\"name\" in my_dict  # True\n",
        "```"
      ],
      "metadata": {
        "id": "p6L7cispl5IU"
      }
    },
    {
      "cell_type": "markdown",
      "source": [
        "---\n",
        "\n",
        "Let's do some exercises to practice dictionaries.\n",
        "1. Write a function `invert_dict(d)` that swaps keys and values in a dictionary.\n",
        "Assume all values are unique and hashable.\n",
        "2. Write a function `merge_dicts(d1, d2)` that returns a new dictionary combining both.\n",
        "If a key exists in both, the value from `d2` should override."
      ],
      "metadata": {
        "id": "-PUXolS3naoC"
      }
    },
    {
      "cell_type": "code",
      "source": [
        "def invert_dict(d: dict) -> dict:\n",
        "  # Write your code here.\n",
        "  return {}\n",
        "\n",
        "def merge_dicts(d1: dict, d2: dict) -> dict:\n",
        "  # Write your code here.\n",
        "  return {}"
      ],
      "metadata": {
        "id": "uiRZkgXOnibU"
      },
      "execution_count": null,
      "outputs": []
    },
    {
      "cell_type": "markdown",
      "source": [
        "## Get the invoices right\n",
        "\n",
        "- Load the companies list from the CSV file `./invoices/companies.csv`. Each company sold services to selected units.\n",
        "- There are three units: `Marketing`, `Human Resources` and `IT`.\n",
        "- If a company sells to a single unit only, then move all its invoices to a related folder.\n",
        "- A company name can be taken from a PDF file, i.e. the company line or the file name.\n",
        "- If a company sells to more than one unit, find a keyword in invoice items (below the Service header).\n",
        "- Keywords for units:\n",
        " - Marketing: `Digital Advertising Campaign`, `Market Research Study`, `Brand Identity Design`, `Social Media Management`, `Content Creation Services`;\n",
        " - Human Resources: `Employee Training Program`, `Recruitment Services`, `HR Software Subscription`, `Team Building Event`, `Workplace Safety Consultation`;\n",
        " - IT: `Software License Renewal`, `Cloud Storage Subscription`, `Network Security Audit`, `Hardware Maintenance`, `IT Support Services`.\n",
        "- Assign an invoice to the corresponding unit folder based on the found keyword.\n",
        "- **Goal:** Within a folder, i.e. 2024 or 2025, move all invoices according to their identified units. If you cannot determine a unit, move it to the `Manual Verification` folder."
      ],
      "metadata": {
        "id": "HVPmk8_ueZT_"
      }
    },
    {
      "cell_type": "code",
      "source": [
        "# Write your code here."
      ],
      "metadata": {
        "id": "6eul2hXNfypI"
      },
      "execution_count": null,
      "outputs": []
    },
    {
      "cell_type": "markdown",
      "source": [
        "# 📓 Day 3: Improve Cleaning Algorithm\n",
        "\n",
        "Today's lab contains:\n",
        "- [ ] Python's code building blocks: HTTP requests, JSON parsing;\n",
        "- [ ] NBP API;\n",
        "- [ ] the Levenshtein distance;\n",
        "- [ ] the main goal is improving the algorithm to meet new business logic."
      ],
      "metadata": {
        "id": "NvrAeKUEDYRz"
      }
    },
    {
      "cell_type": "markdown",
      "source": [
        "## Improve the cleaning algorithm\n",
        "\n",
        "- New rule: all invoices over 10000 PLN must be moved to the `Manual Verification` folder.\n",
        "- Note that some invoices are in EUR, so we must convert the currency.\n",
        "- Use the NBP API to convert prices to PLN (https://api.nbp.pl/api/exchangerates/rates/A/EUR/2025-01-02?format=json).\n",
        "- Some service names in the invoices have small misspelling errors.\n",
        "- New rule: use the Levenshtein distance to match keywords. The maximum allowed distance is 2.\n",
        "- **Goal:** Improvement of the cleaning procedure to meet all new requirements."
      ],
      "metadata": {
        "id": "3mBoT9ojgHDT"
      }
    },
    {
      "cell_type": "code",
      "source": [
        "# Write your code here."
      ],
      "metadata": {
        "id": "unFY3kH3gsiX"
      },
      "execution_count": null,
      "outputs": []
    },
    {
      "cell_type": "markdown",
      "source": [
        "# 📓 Day 4: Make A Report For The Boss\n",
        "\n",
        "Today's lab contains:\n",
        "- [ ] HTML code building blocks;\n",
        "- [ ] the _weasyprint_ library;\n",
        "- [ ] data processing;\n",
        "- [ ] the main goal is generating, for each year, a report in the form of PDF."
      ],
      "metadata": {
        "id": "cMrNzO9RD4kX"
      }
    },
    {
      "cell_type": "markdown",
      "source": [
        "## Generating reports\n",
        "\n",
        "- For each unit:\n",
        "  - show the total number of invoices (including those moved to the `Manual Verification` folder);\n",
        "  - show the total sum of invoices in PLN;\n",
        "- Print the table with the invoices that require manual verification. Sort it by amount.\n",
        "- A report should be created in HTML and then generated as a PDF.\n",
        "- **Goal:** For each year, generate a report (PDF) summarising the invoices' cleaning.\n",
        "\n",
        "Hint: You can extend the code from previous days."
      ],
      "metadata": {
        "id": "wuCNElOOg0jq"
      }
    },
    {
      "cell_type": "code",
      "source": [
        "# Write your code here."
      ],
      "metadata": {
        "id": "1fVLKOImht2r"
      },
      "execution_count": null,
      "outputs": []
    },
    {
      "cell_type": "markdown",
      "source": [
        "# 📓 Day 5: Do The Final Project\n",
        "\n",
        "In pairs, make a 5-min project pitch 💬. Based on learnt process, please prepare a proposal for your automation. It can be related to learning, hobby, or anything that is important to you.\n"
      ],
      "metadata": {
        "id": "_eswf-X6EA7T"
      }
    }
  ]
}